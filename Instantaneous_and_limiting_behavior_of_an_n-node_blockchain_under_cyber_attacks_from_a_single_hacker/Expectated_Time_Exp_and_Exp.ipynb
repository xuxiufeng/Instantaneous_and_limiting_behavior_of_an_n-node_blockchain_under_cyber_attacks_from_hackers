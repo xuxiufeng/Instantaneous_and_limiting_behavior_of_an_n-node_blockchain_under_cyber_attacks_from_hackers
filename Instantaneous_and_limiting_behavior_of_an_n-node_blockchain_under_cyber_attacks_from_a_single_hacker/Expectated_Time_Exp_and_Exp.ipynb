{
  "nbformat": 4,
  "nbformat_minor": 0,
  "metadata": {
    "colab": {
      "name": "Expectated Time - Exp and Exp.ipynb",
      "provenance": [],
      "include_colab_link": true
    },
    "kernelspec": {
      "name": "python3",
      "display_name": "Python 3"
    },
    "language_info": {
      "name": "python"
    }
  },
  "cells": [
    {
      "cell_type": "markdown",
      "metadata": {
        "id": "view-in-github",
        "colab_type": "text"
      },
      "source": [
        "<a href=\"https://colab.research.google.com/github/xuxiufeng/Instantaneous_and_limiting_behavior_of_an_n-node_blockchain_under_cyber_attacks_from_hackers/blob/main/Instantaneous_and_limiting_behavior_of_an_n-node_blockchain_under_cyber_attacks_from_a_single_hacker/Expectated_Time_Exp_and_Exp.ipynb\" target=\"_parent\"><img src=\"https://colab.research.google.com/assets/colab-badge.svg\" alt=\"Open In Colab\"/></a>"
      ]
    },
    {
      "cell_type": "code",
      "execution_count": null,
      "metadata": {
        "id": "L4Cz153bDc8w"
      },
      "outputs": [],
      "source": [
        "import numpy as np\n",
        "import matplotlib.pyplot as plt"
      ]
    },
    {
      "cell_type": "code",
      "source": [
        "np.random.seed(1)"
      ],
      "metadata": {
        "id": "7_4LRXtMFnP5"
      },
      "execution_count": null,
      "outputs": []
    },
    {
      "cell_type": "code",
      "source": [
        "def ET_m(m, lamb, delta):\n",
        "    def T_m(m, lamb, delta):\n",
        "        sum_of_y = 0\n",
        "        y = np.random.exponential(delta)\n",
        "        sum_of_x = np.sum(np.random.exponential(lamb, m))\n",
        "        while sum_of_x > y:\n",
        "            sum_of_y = sum_of_y + y\n",
        "            sum_of_x = np.sum(np.random.exponential(lamb, m))\n",
        "            y = np.random.exponential(delta)\n",
        "        return(sum_of_y + sum_of_x)\n",
        "\n",
        "    ET = np.repeat(np.nan, m)\n",
        "    for i in range(m):\n",
        "        T_0 = 0\n",
        "        iter = 30000 # iter 30000\n",
        "        for j in range(iter):\n",
        "            T_0 += T_m(i+1, lamb, delta)\n",
        "        ET[i] = T_0/iter\n",
        "    return(ET)"
      ],
      "metadata": {
        "id": "itVu1i1IFnTE"
      },
      "execution_count": null,
      "outputs": []
    },
    {
      "cell_type": "code",
      "source": [
        "m = 40\n",
        "lamb = 0.2\n",
        "delta = 3\n",
        "ET_m = ET_m(m, lamb, delta)\n",
        "fig = plt.figure(figsize=(8, 6))\n",
        "plt.scatter(range(1, m+1), ET_m)\n",
        "plt.xlabel(r'$m$')\n",
        "plt.ylabel(r'$E[T_m]$ (unit: hour)')\n",
        "plt.title('Exponential Hacking and Exponential Detecting Times')\n",
        "plt.show()"
      ],
      "metadata": {
        "colab": {
          "base_uri": "https://localhost:8080/",
          "height": 404
        },
        "id": "6FKK93xtFnWd",
        "outputId": "a7f93e49-f31d-482a-f97e-b605b16166a0"
      },
      "execution_count": null,
      "outputs": [
        {
          "output_type": "display_data",
          "data": {
            "text/plain": [
              "<Figure size 576x432 with 1 Axes>"
            ],
            "image/png": "[encoded data removed]"
          },
          "metadata": {
            "needs_background": "light"
          }
        }
      ]
    },
    {
      "cell_type": "markdown",
      "source": [
        "## Increasing Monontone"
      ],
      "metadata": {
        "id": "NIReJUstoKDw"
      }
    },
    {
      "cell_type": "code",
      "source": [
        "R = [.01*np.exp(np.sqrt(1.5*c)) for c in range(1, m+1)] # Increasing\n",
        "C_2 = [.01*c for c in range(1, m+1)]\n",
        "C_1 = [.001*c for c in range(1, m+1)]\n",
        "E_mNR = np.repeat(np.nan, len(ET_m))\n",
        "for j in range(m):\n",
        "  E_mNR[j] = R[j] - C_2[j] - C_1[j]/(1/delta)\n",
        "m_max = np.where(E_mNR == max(E_mNR))[0][0] + 1\n",
        "print(m_max, max(E_mNR))"
      ],
      "metadata": {
        "id": "EuErKWswoNA2",
        "outputId": "a6a4fb39-4bb6-43bc-fb64-a05cab3f6923",
        "colab": {
          "base_uri": "https://localhost:8080/"
        }
      },
      "execution_count": null,
      "outputs": [
        {
          "output_type": "stream",
          "name": "stdout",
          "text": [
            "40 22.60227656791031\n"
          ]
        }
      ]
    },
    {
      "cell_type": "code",
      "source": [
        "fig = plt.figure(figsize=(8, 6))\n",
        "plt.scatter(range(1, m+1), E_mNR)\n",
        "plt.axvline(x = m_max, c='red')\n",
        "plt.xlabel(r'$m$')\n",
        "plt.ylabel(r'$E_m[NR]$')\n",
        "plt.title(r'Expected Net Revenue Versus $m$')\n",
        "plt.show()"
      ],
      "metadata": {
        "id": "TqGGCw0WoQfL",
        "outputId": "499165b1-8631-43c2-9c6f-30033681b61d",
        "colab": {
          "base_uri": "https://localhost:8080/",
          "height": 406
        }
      },
      "execution_count": null,
      "outputs": [
        {
          "output_type": "display_data",
          "data": {
            "text/plain": [
              "<Figure size 576x432 with 1 Axes>"
            ],
            "image/png": "[encoded data removed]"
          },
          "metadata": {
            "needs_background": "light"
          }
        }
      ]
    }
  ]
}